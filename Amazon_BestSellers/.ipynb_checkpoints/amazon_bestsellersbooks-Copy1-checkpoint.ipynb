{
 "cells": [
  {
   "cell_type": "markdown",
   "id": "e618e3d0",
   "metadata": {},
   "source": [
    "# Amazon Best Sellers\n",
    "\n",
    "Análise realizada a partir do dataset:\n",
    "[Amazon Top 50 Bestselling Books 2009 - 2019](https://www.kaggle.com/datasets/sootersaalu/amazon-top-50-bestselling-books-2009-2019)."
   ]
  },
  {
   "cell_type": "markdown",
   "id": "f6bec5ef",
   "metadata": {},
   "source": [
    "## 1. Importação de Bibliotecas"
   ]
  },
  {
   "cell_type": "code",
   "execution_count": 1,
   "id": "e3c06590",
   "metadata": {},
   "outputs": [],
   "source": [
    "import pandas as pd\n",
    "import numpy as np\n",
    "import matplotlib.pyplot as plt\n",
    "import seaborn as sns"
   ]
  },
  {
   "cell_type": "code",
   "execution_count": 2,
   "id": "420e662b",
   "metadata": {},
   "outputs": [],
   "source": [
    "import plotly.graph_objects as go\n",
    "from plotly.subplots import make_subplots\n",
    "import plotly.figure_factory as ff"
   ]
  },
  {
   "cell_type": "markdown",
   "id": "ebe40135",
   "metadata": {},
   "source": [
    "## 2. Base de dados"
   ]
  },
  {
   "cell_type": "code",
   "execution_count": 3,
   "id": "104aaed5",
   "metadata": {},
   "outputs": [
    {
     "data": {
      "text/html": [
       "<div>\n",
       "<style scoped>\n",
       "    .dataframe tbody tr th:only-of-type {\n",
       "        vertical-align: middle;\n",
       "    }\n",
       "\n",
       "    .dataframe tbody tr th {\n",
       "        vertical-align: top;\n",
       "    }\n",
       "\n",
       "    .dataframe thead th {\n",
       "        text-align: right;\n",
       "    }\n",
       "</style>\n",
       "<table border=\"1\" class=\"dataframe\">\n",
       "  <thead>\n",
       "    <tr style=\"text-align: right;\">\n",
       "      <th></th>\n",
       "      <th>Name</th>\n",
       "      <th>Author</th>\n",
       "      <th>User Rating</th>\n",
       "      <th>Reviews</th>\n",
       "      <th>Price</th>\n",
       "      <th>Year</th>\n",
       "      <th>Genre</th>\n",
       "    </tr>\n",
       "  </thead>\n",
       "  <tbody>\n",
       "    <tr>\n",
       "      <th>0</th>\n",
       "      <td>10-Day Green Smoothie Cleanse</td>\n",
       "      <td>JJ Smith</td>\n",
       "      <td>4.7</td>\n",
       "      <td>17350</td>\n",
       "      <td>8</td>\n",
       "      <td>2016</td>\n",
       "      <td>Non Fiction</td>\n",
       "    </tr>\n",
       "    <tr>\n",
       "      <th>1</th>\n",
       "      <td>11/22/63: A Novel</td>\n",
       "      <td>Stephen King</td>\n",
       "      <td>4.6</td>\n",
       "      <td>2052</td>\n",
       "      <td>22</td>\n",
       "      <td>2011</td>\n",
       "      <td>Fiction</td>\n",
       "    </tr>\n",
       "    <tr>\n",
       "      <th>2</th>\n",
       "      <td>12 Rules for Life: An Antidote to Chaos</td>\n",
       "      <td>Jordan B. Peterson</td>\n",
       "      <td>4.7</td>\n",
       "      <td>18979</td>\n",
       "      <td>15</td>\n",
       "      <td>2018</td>\n",
       "      <td>Non Fiction</td>\n",
       "    </tr>\n",
       "    <tr>\n",
       "      <th>3</th>\n",
       "      <td>1984 (Signet Classics)</td>\n",
       "      <td>George Orwell</td>\n",
       "      <td>4.7</td>\n",
       "      <td>21424</td>\n",
       "      <td>6</td>\n",
       "      <td>2017</td>\n",
       "      <td>Fiction</td>\n",
       "    </tr>\n",
       "    <tr>\n",
       "      <th>4</th>\n",
       "      <td>5,000 Awesome Facts (About Everything!) (Natio...</td>\n",
       "      <td>National Geographic Kids</td>\n",
       "      <td>4.8</td>\n",
       "      <td>7665</td>\n",
       "      <td>12</td>\n",
       "      <td>2019</td>\n",
       "      <td>Non Fiction</td>\n",
       "    </tr>\n",
       "  </tbody>\n",
       "</table>\n",
       "</div>"
      ],
      "text/plain": [
       "                                                Name  \\\n",
       "0                      10-Day Green Smoothie Cleanse   \n",
       "1                                  11/22/63: A Novel   \n",
       "2            12 Rules for Life: An Antidote to Chaos   \n",
       "3                             1984 (Signet Classics)   \n",
       "4  5,000 Awesome Facts (About Everything!) (Natio...   \n",
       "\n",
       "                     Author  User Rating  Reviews  Price  Year        Genre  \n",
       "0                  JJ Smith          4.7    17350      8  2016  Non Fiction  \n",
       "1              Stephen King          4.6     2052     22  2011      Fiction  \n",
       "2        Jordan B. Peterson          4.7    18979     15  2018  Non Fiction  \n",
       "3             George Orwell          4.7    21424      6  2017      Fiction  \n",
       "4  National Geographic Kids          4.8     7665     12  2019  Non Fiction  "
      ]
     },
     "execution_count": 3,
     "metadata": {},
     "output_type": "execute_result"
    }
   ],
   "source": [
    "amazon = pd.read_csv('amazon_bestsellers.csv')\n",
    "amazon.head()"
   ]
  },
  {
   "cell_type": "code",
   "execution_count": 4,
   "id": "2e1867d1",
   "metadata": {},
   "outputs": [
    {
     "data": {
      "text/html": [
       "<div>\n",
       "<style scoped>\n",
       "    .dataframe tbody tr th:only-of-type {\n",
       "        vertical-align: middle;\n",
       "    }\n",
       "\n",
       "    .dataframe tbody tr th {\n",
       "        vertical-align: top;\n",
       "    }\n",
       "\n",
       "    .dataframe thead th {\n",
       "        text-align: right;\n",
       "    }\n",
       "</style>\n",
       "<table border=\"1\" class=\"dataframe\">\n",
       "  <thead>\n",
       "    <tr style=\"text-align: right;\">\n",
       "      <th></th>\n",
       "      <th>Name</th>\n",
       "      <th>Author</th>\n",
       "      <th>User Rating</th>\n",
       "      <th>Reviews</th>\n",
       "      <th>Price</th>\n",
       "      <th>Year</th>\n",
       "      <th>Genre</th>\n",
       "    </tr>\n",
       "  </thead>\n",
       "  <tbody>\n",
       "    <tr>\n",
       "      <th>545</th>\n",
       "      <td>Wrecking Ball (Diary of a Wimpy Kid Book 14)</td>\n",
       "      <td>Jeff Kinney</td>\n",
       "      <td>4.9</td>\n",
       "      <td>9413</td>\n",
       "      <td>8</td>\n",
       "      <td>2019</td>\n",
       "      <td>Fiction</td>\n",
       "    </tr>\n",
       "    <tr>\n",
       "      <th>546</th>\n",
       "      <td>You Are a Badass: How to Stop Doubting Your Gr...</td>\n",
       "      <td>Jen Sincero</td>\n",
       "      <td>4.7</td>\n",
       "      <td>14331</td>\n",
       "      <td>8</td>\n",
       "      <td>2016</td>\n",
       "      <td>Non Fiction</td>\n",
       "    </tr>\n",
       "    <tr>\n",
       "      <th>547</th>\n",
       "      <td>You Are a Badass: How to Stop Doubting Your Gr...</td>\n",
       "      <td>Jen Sincero</td>\n",
       "      <td>4.7</td>\n",
       "      <td>14331</td>\n",
       "      <td>8</td>\n",
       "      <td>2017</td>\n",
       "      <td>Non Fiction</td>\n",
       "    </tr>\n",
       "    <tr>\n",
       "      <th>548</th>\n",
       "      <td>You Are a Badass: How to Stop Doubting Your Gr...</td>\n",
       "      <td>Jen Sincero</td>\n",
       "      <td>4.7</td>\n",
       "      <td>14331</td>\n",
       "      <td>8</td>\n",
       "      <td>2018</td>\n",
       "      <td>Non Fiction</td>\n",
       "    </tr>\n",
       "    <tr>\n",
       "      <th>549</th>\n",
       "      <td>You Are a Badass: How to Stop Doubting Your Gr...</td>\n",
       "      <td>Jen Sincero</td>\n",
       "      <td>4.7</td>\n",
       "      <td>14331</td>\n",
       "      <td>8</td>\n",
       "      <td>2019</td>\n",
       "      <td>Non Fiction</td>\n",
       "    </tr>\n",
       "  </tbody>\n",
       "</table>\n",
       "</div>"
      ],
      "text/plain": [
       "                                                  Name       Author  \\\n",
       "545       Wrecking Ball (Diary of a Wimpy Kid Book 14)  Jeff Kinney   \n",
       "546  You Are a Badass: How to Stop Doubting Your Gr...  Jen Sincero   \n",
       "547  You Are a Badass: How to Stop Doubting Your Gr...  Jen Sincero   \n",
       "548  You Are a Badass: How to Stop Doubting Your Gr...  Jen Sincero   \n",
       "549  You Are a Badass: How to Stop Doubting Your Gr...  Jen Sincero   \n",
       "\n",
       "     User Rating  Reviews  Price  Year        Genre  \n",
       "545          4.9     9413      8  2019      Fiction  \n",
       "546          4.7    14331      8  2016  Non Fiction  \n",
       "547          4.7    14331      8  2017  Non Fiction  \n",
       "548          4.7    14331      8  2018  Non Fiction  \n",
       "549          4.7    14331      8  2019  Non Fiction  "
      ]
     },
     "execution_count": 4,
     "metadata": {},
     "output_type": "execute_result"
    }
   ],
   "source": [
    "amazon.tail()"
   ]
  },
  {
   "cell_type": "code",
   "execution_count": 5,
   "id": "51acdfbd",
   "metadata": {},
   "outputs": [
    {
     "data": {
      "text/html": [
       "<div>\n",
       "<style scoped>\n",
       "    .dataframe tbody tr th:only-of-type {\n",
       "        vertical-align: middle;\n",
       "    }\n",
       "\n",
       "    .dataframe tbody tr th {\n",
       "        vertical-align: top;\n",
       "    }\n",
       "\n",
       "    .dataframe thead th {\n",
       "        text-align: right;\n",
       "    }\n",
       "</style>\n",
       "<table border=\"1\" class=\"dataframe\">\n",
       "  <thead>\n",
       "    <tr style=\"text-align: right;\">\n",
       "      <th></th>\n",
       "      <th>Name</th>\n",
       "      <th>Author</th>\n",
       "      <th>User Rating</th>\n",
       "      <th>Reviews</th>\n",
       "      <th>Price</th>\n",
       "      <th>Year</th>\n",
       "      <th>Genre</th>\n",
       "    </tr>\n",
       "  </thead>\n",
       "  <tbody>\n",
       "    <tr>\n",
       "      <th>0</th>\n",
       "      <td>10-Day Green Smoothie Cleanse</td>\n",
       "      <td>JJ Smith</td>\n",
       "      <td>4.7</td>\n",
       "      <td>17350</td>\n",
       "      <td>8</td>\n",
       "      <td>2016</td>\n",
       "      <td>Non Fiction</td>\n",
       "    </tr>\n",
       "    <tr>\n",
       "      <th>1</th>\n",
       "      <td>11/22/63: A Novel</td>\n",
       "      <td>Stephen King</td>\n",
       "      <td>4.6</td>\n",
       "      <td>2052</td>\n",
       "      <td>22</td>\n",
       "      <td>2011</td>\n",
       "      <td>Fiction</td>\n",
       "    </tr>\n",
       "    <tr>\n",
       "      <th>2</th>\n",
       "      <td>12 Rules for Life: An Antidote to Chaos</td>\n",
       "      <td>Jordan B. Peterson</td>\n",
       "      <td>4.7</td>\n",
       "      <td>18979</td>\n",
       "      <td>15</td>\n",
       "      <td>2018</td>\n",
       "      <td>Non Fiction</td>\n",
       "    </tr>\n",
       "    <tr>\n",
       "      <th>3</th>\n",
       "      <td>1984 (Signet Classics)</td>\n",
       "      <td>George Orwell</td>\n",
       "      <td>4.7</td>\n",
       "      <td>21424</td>\n",
       "      <td>6</td>\n",
       "      <td>2017</td>\n",
       "      <td>Fiction</td>\n",
       "    </tr>\n",
       "    <tr>\n",
       "      <th>4</th>\n",
       "      <td>5,000 Awesome Facts (About Everything!) (Natio...</td>\n",
       "      <td>National Geographic Kids</td>\n",
       "      <td>4.8</td>\n",
       "      <td>7665</td>\n",
       "      <td>12</td>\n",
       "      <td>2019</td>\n",
       "      <td>Non Fiction</td>\n",
       "    </tr>\n",
       "    <tr>\n",
       "      <th>...</th>\n",
       "      <td>...</td>\n",
       "      <td>...</td>\n",
       "      <td>...</td>\n",
       "      <td>...</td>\n",
       "      <td>...</td>\n",
       "      <td>...</td>\n",
       "      <td>...</td>\n",
       "    </tr>\n",
       "    <tr>\n",
       "      <th>545</th>\n",
       "      <td>Wrecking Ball (Diary of a Wimpy Kid Book 14)</td>\n",
       "      <td>Jeff Kinney</td>\n",
       "      <td>4.9</td>\n",
       "      <td>9413</td>\n",
       "      <td>8</td>\n",
       "      <td>2019</td>\n",
       "      <td>Fiction</td>\n",
       "    </tr>\n",
       "    <tr>\n",
       "      <th>546</th>\n",
       "      <td>You Are a Badass: How to Stop Doubting Your Gr...</td>\n",
       "      <td>Jen Sincero</td>\n",
       "      <td>4.7</td>\n",
       "      <td>14331</td>\n",
       "      <td>8</td>\n",
       "      <td>2016</td>\n",
       "      <td>Non Fiction</td>\n",
       "    </tr>\n",
       "    <tr>\n",
       "      <th>547</th>\n",
       "      <td>You Are a Badass: How to Stop Doubting Your Gr...</td>\n",
       "      <td>Jen Sincero</td>\n",
       "      <td>4.7</td>\n",
       "      <td>14331</td>\n",
       "      <td>8</td>\n",
       "      <td>2017</td>\n",
       "      <td>Non Fiction</td>\n",
       "    </tr>\n",
       "    <tr>\n",
       "      <th>548</th>\n",
       "      <td>You Are a Badass: How to Stop Doubting Your Gr...</td>\n",
       "      <td>Jen Sincero</td>\n",
       "      <td>4.7</td>\n",
       "      <td>14331</td>\n",
       "      <td>8</td>\n",
       "      <td>2018</td>\n",
       "      <td>Non Fiction</td>\n",
       "    </tr>\n",
       "    <tr>\n",
       "      <th>549</th>\n",
       "      <td>You Are a Badass: How to Stop Doubting Your Gr...</td>\n",
       "      <td>Jen Sincero</td>\n",
       "      <td>4.7</td>\n",
       "      <td>14331</td>\n",
       "      <td>8</td>\n",
       "      <td>2019</td>\n",
       "      <td>Non Fiction</td>\n",
       "    </tr>\n",
       "  </tbody>\n",
       "</table>\n",
       "<p>550 rows × 7 columns</p>\n",
       "</div>"
      ],
      "text/plain": [
       "                                                  Name  \\\n",
       "0                        10-Day Green Smoothie Cleanse   \n",
       "1                                    11/22/63: A Novel   \n",
       "2              12 Rules for Life: An Antidote to Chaos   \n",
       "3                               1984 (Signet Classics)   \n",
       "4    5,000 Awesome Facts (About Everything!) (Natio...   \n",
       "..                                                 ...   \n",
       "545       Wrecking Ball (Diary of a Wimpy Kid Book 14)   \n",
       "546  You Are a Badass: How to Stop Doubting Your Gr...   \n",
       "547  You Are a Badass: How to Stop Doubting Your Gr...   \n",
       "548  You Are a Badass: How to Stop Doubting Your Gr...   \n",
       "549  You Are a Badass: How to Stop Doubting Your Gr...   \n",
       "\n",
       "                       Author  User Rating  Reviews  Price  Year        Genre  \n",
       "0                    JJ Smith          4.7    17350      8  2016  Non Fiction  \n",
       "1                Stephen King          4.6     2052     22  2011      Fiction  \n",
       "2          Jordan B. Peterson          4.7    18979     15  2018  Non Fiction  \n",
       "3               George Orwell          4.7    21424      6  2017      Fiction  \n",
       "4    National Geographic Kids          4.8     7665     12  2019  Non Fiction  \n",
       "..                        ...          ...      ...    ...   ...          ...  \n",
       "545               Jeff Kinney          4.9     9413      8  2019      Fiction  \n",
       "546               Jen Sincero          4.7    14331      8  2016  Non Fiction  \n",
       "547               Jen Sincero          4.7    14331      8  2017  Non Fiction  \n",
       "548               Jen Sincero          4.7    14331      8  2018  Non Fiction  \n",
       "549               Jen Sincero          4.7    14331      8  2019  Non Fiction  \n",
       "\n",
       "[550 rows x 7 columns]"
      ]
     },
     "execution_count": 5,
     "metadata": {},
     "output_type": "execute_result"
    }
   ],
   "source": [
    "amazon"
   ]
  },
  {
   "cell_type": "code",
   "execution_count": 14,
   "id": "614047bc",
   "metadata": {},
   "outputs": [
    {
     "data": {
      "text/plain": [
       "(550, 7)"
      ]
     },
     "execution_count": 14,
     "metadata": {},
     "output_type": "execute_result"
    }
   ],
   "source": [
    "# Dimensão dos dados:\n",
    "amazon.shape"
   ]
  },
  {
   "cell_type": "code",
   "execution_count": 16,
   "id": "5d80c392",
   "metadata": {},
   "outputs": [
    {
     "name": "stdout",
     "output_type": "stream",
     "text": [
      "O dataframe contém: 550 resgistros (linhas) e 7 colunas.\n"
     ]
    }
   ],
   "source": [
    "print(f'O dataframe contém: {amazon.shape[0]} resgistros (linhas) e {amazon.shape[1]} colunas.')"
   ]
  },
  {
   "cell_type": "markdown",
   "id": "752733fb",
   "metadata": {},
   "source": [
    "## 3. Informações do Dataset"
   ]
  },
  {
   "cell_type": "code",
   "execution_count": 8,
   "id": "4b06927a",
   "metadata": {},
   "outputs": [
    {
     "name": "stdout",
     "output_type": "stream",
     "text": [
      "<class 'pandas.core.frame.DataFrame'>\n",
      "RangeIndex: 550 entries, 0 to 549\n",
      "Data columns (total 7 columns):\n",
      " #   Column       Non-Null Count  Dtype  \n",
      "---  ------       --------------  -----  \n",
      " 0   Name         550 non-null    object \n",
      " 1   Author       550 non-null    object \n",
      " 2   User Rating  550 non-null    float64\n",
      " 3   Reviews      550 non-null    int64  \n",
      " 4   Price        550 non-null    int64  \n",
      " 5   Year         550 non-null    int64  \n",
      " 6   Genre        550 non-null    object \n",
      "dtypes: float64(1), int64(3), object(3)\n",
      "memory usage: 30.2+ KB\n"
     ]
    }
   ],
   "source": [
    "amazon.info()"
   ]
  },
  {
   "cell_type": "markdown",
   "id": "af025627",
   "metadata": {},
   "source": [
    "O dataset contém 3 colunas de valores categóricos e 4 colunas de valores numéricos. Não possui nenhum valor faltante."
   ]
  },
  {
   "cell_type": "code",
   "execution_count": 9,
   "id": "a4cd6103",
   "metadata": {
    "scrolled": true
   },
   "outputs": [
    {
     "data": {
      "text/html": [
       "<div>\n",
       "<style scoped>\n",
       "    .dataframe tbody tr th:only-of-type {\n",
       "        vertical-align: middle;\n",
       "    }\n",
       "\n",
       "    .dataframe tbody tr th {\n",
       "        vertical-align: top;\n",
       "    }\n",
       "\n",
       "    .dataframe thead th {\n",
       "        text-align: right;\n",
       "    }\n",
       "</style>\n",
       "<table border=\"1\" class=\"dataframe\">\n",
       "  <thead>\n",
       "    <tr style=\"text-align: right;\">\n",
       "      <th></th>\n",
       "      <th>User Rating</th>\n",
       "      <th>Reviews</th>\n",
       "      <th>Price</th>\n",
       "      <th>Year</th>\n",
       "    </tr>\n",
       "  </thead>\n",
       "  <tbody>\n",
       "    <tr>\n",
       "      <th>count</th>\n",
       "      <td>550.000000</td>\n",
       "      <td>550.000000</td>\n",
       "      <td>550.000000</td>\n",
       "      <td>550.000000</td>\n",
       "    </tr>\n",
       "    <tr>\n",
       "      <th>mean</th>\n",
       "      <td>4.618364</td>\n",
       "      <td>11953.281818</td>\n",
       "      <td>13.100000</td>\n",
       "      <td>2014.000000</td>\n",
       "    </tr>\n",
       "    <tr>\n",
       "      <th>std</th>\n",
       "      <td>0.226980</td>\n",
       "      <td>11731.132017</td>\n",
       "      <td>10.842262</td>\n",
       "      <td>3.165156</td>\n",
       "    </tr>\n",
       "    <tr>\n",
       "      <th>min</th>\n",
       "      <td>3.300000</td>\n",
       "      <td>37.000000</td>\n",
       "      <td>0.000000</td>\n",
       "      <td>2009.000000</td>\n",
       "    </tr>\n",
       "    <tr>\n",
       "      <th>25%</th>\n",
       "      <td>4.500000</td>\n",
       "      <td>4058.000000</td>\n",
       "      <td>7.000000</td>\n",
       "      <td>2011.000000</td>\n",
       "    </tr>\n",
       "    <tr>\n",
       "      <th>50%</th>\n",
       "      <td>4.700000</td>\n",
       "      <td>8580.000000</td>\n",
       "      <td>11.000000</td>\n",
       "      <td>2014.000000</td>\n",
       "    </tr>\n",
       "    <tr>\n",
       "      <th>75%</th>\n",
       "      <td>4.800000</td>\n",
       "      <td>17253.250000</td>\n",
       "      <td>16.000000</td>\n",
       "      <td>2017.000000</td>\n",
       "    </tr>\n",
       "    <tr>\n",
       "      <th>max</th>\n",
       "      <td>4.900000</td>\n",
       "      <td>87841.000000</td>\n",
       "      <td>105.000000</td>\n",
       "      <td>2019.000000</td>\n",
       "    </tr>\n",
       "  </tbody>\n",
       "</table>\n",
       "</div>"
      ],
      "text/plain": [
       "       User Rating       Reviews       Price         Year\n",
       "count   550.000000    550.000000  550.000000   550.000000\n",
       "mean      4.618364  11953.281818   13.100000  2014.000000\n",
       "std       0.226980  11731.132017   10.842262     3.165156\n",
       "min       3.300000     37.000000    0.000000  2009.000000\n",
       "25%       4.500000   4058.000000    7.000000  2011.000000\n",
       "50%       4.700000   8580.000000   11.000000  2014.000000\n",
       "75%       4.800000  17253.250000   16.000000  2017.000000\n",
       "max       4.900000  87841.000000  105.000000  2019.000000"
      ]
     },
     "execution_count": 9,
     "metadata": {},
     "output_type": "execute_result"
    }
   ],
   "source": [
    "amazon.describe()"
   ]
  },
  {
   "cell_type": "markdown",
   "id": "07421b8a",
   "metadata": {},
   "source": [
    "A função _describe()_ fornece as seguintes informações das variáveis numéricas do dataset: \n",
    "- _count_ ---> número de registros  \n",
    "- _mean_ ---> média dos valores\n",
    "- _std_ ------> desvio padrão\n",
    "- _min_ -----> valor mínimo\n",
    "- _25%_ ----> primeiro quartil\n",
    "- _50%_ ----> segundo quartil ou mediana\n",
    "- _75%_ ----> terceiro quartil\n",
    "- _max_ ----> valor máximo"
   ]
  },
  {
   "cell_type": "markdown",
   "id": "d635a7b9",
   "metadata": {},
   "source": [
    "## 4. Análise Exploratória\n",
    "\n",
    "### 4.1 Valores Duplicados"
   ]
  },
  {
   "cell_type": "code",
   "execution_count": 17,
   "id": "dd5942d8",
   "metadata": {},
   "outputs": [
    {
     "name": "stdout",
     "output_type": "stream",
     "text": [
      "Colunas com valores categóricos: Name, Author, Genre.\n"
     ]
    }
   ],
   "source": [
    "# Formatando colunas categóricas:\n",
    "coluna_categorica = list(amazon.select_dtypes(exclude=('int', 'float')).columns)\n",
    "\n",
    "print(f'Colunas com valores categóricos: {\", \".join(coluna_categorica)}.')"
   ]
  },
  {
   "cell_type": "code",
   "execution_count": 20,
   "id": "24cdd12b",
   "metadata": {
    "scrolled": true
   },
   "outputs": [
    {
     "name": "stdout",
     "output_type": "stream",
     "text": [
      "A coluna Name contém valores duplicados.\n",
      "A coluna Author contém valores duplicados.\n",
      "A coluna Genre contém valores duplicados.\n"
     ]
    }
   ],
   "source": [
    "# Analisando colunas com valores duplicados:\n",
    "for coluna in coluna_categorica:\n",
    "    if amazon[coluna].duplicated().any() == True:\n",
    "        print (f'A coluna {coluna} contém valores duplicados.')\n",
    "    else:\n",
    "        print (f'A coluna {coluna} não contém valores duplicados.')"
   ]
  },
  {
   "cell_type": "markdown",
   "id": "814b0e96",
   "metadata": {},
   "source": [
    "### 4.2 Erros e Correções"
   ]
  },
  {
   "cell_type": "markdown",
   "id": "9636dc0e",
   "metadata": {},
   "source": [
    "Vamos agora verificar se as colunas acima contêm palavras que diferem apenas por letras maiúsculas e minúsculas e por espaços extras."
   ]
  },
  {
   "cell_type": "code",
   "execution_count": 23,
   "id": "f967dbec",
   "metadata": {
    "scrolled": true
   },
   "outputs": [
    {
     "name": "stdout",
     "output_type": "stream",
     "text": [
      "Name(antes): 351 | Name(depois): 350\n",
      "Author(antes): 248 | Author(depois): 248\n",
      "Genre(antes): 2 | Genre(depois): 2\n"
     ]
    }
   ],
   "source": [
    "# Verificando erros de digitação:\n",
    "for coluna in coluna_categorica:\n",
    "    print(f'{coluna}(antes): {len(set(amazon[coluna]))}'\n",
    "          f' | {coluna}(depois): {len(set(amazon[coluna].str.title().str.strip()))}')"
   ]
  },
  {
   "cell_type": "markdown",
   "id": "d64103e5",
   "metadata": {},
   "source": [
    "Assim, foi verificado que houve 1 erro de digitação na coluna _Name_. "
   ]
  },
  {
   "cell_type": "markdown",
   "id": "6551aaec",
   "metadata": {},
   "source": [
    "#### Coluna _Name_:"
   ]
  },
  {
   "cell_type": "code",
   "execution_count": 24,
   "id": "f7ca0bb5",
   "metadata": {},
   "outputs": [],
   "source": [
    "# Corrigindo erro de digitação:\n",
    "amazon['Name'] = amazon['Name'].str.title().str.strip()"
   ]
  },
  {
   "cell_type": "code",
   "execution_count": 25,
   "id": "321f4c69",
   "metadata": {},
   "outputs": [
    {
     "name": "stdout",
     "output_type": "stream",
     "text": [
      "Name(antes): 350 | Name(depois): 350\n",
      "Author(antes): 248 | Author(depois): 248\n",
      "Genre(antes): 2 | Genre(depois): 2\n"
     ]
    }
   ],
   "source": [
    "# Verificando se os erros de ortografia foram corrigidos:\n",
    "for coluna in coluna_categorica:\n",
    "    print(f'{coluna}(antes): {len(set(amazon[coluna]))}'\n",
    "          f' | {coluna}(depois): {len(set(amazon[coluna].str.title().str.strip()))}')"
   ]
  },
  {
   "cell_type": "markdown",
   "id": "ec75c34e",
   "metadata": {},
   "source": [
    "#### Coluna _Author_:\n",
    "\n",
    "Vamos verificar se há nomes de autores repetidos, porém escritos com grafias diferentes."
   ]
  },
  {
   "cell_type": "code",
   "execution_count": 33,
   "id": "f88376b8",
   "metadata": {},
   "outputs": [
    {
     "data": {
      "text/plain": [
       "array(['Abraham Verghese', 'Adam Gasiewski', 'Adam Mansbach', 'Adir Levy',\n",
       "       'Admiral William H. McRaven', 'Adult Coloring Book Designs',\n",
       "       'Alan Moore', 'Alex Michaelides', 'Alice Schertle', 'Allie Brosh',\n",
       "       'American Psychiatric Association',\n",
       "       'American Psychological Association', 'Amor Towles', 'Amy Ramos',\n",
       "       'Amy Shields', 'Andy Weir', 'Angie Grace', 'Angie Thomas',\n",
       "       'Ann Voskamp', 'Ann Whitford Paul', 'Anthony Bourdain',\n",
       "       'Anthony Doerr', 'Atul Gawande', 'Audrey Niffenegger',\n",
       "       'B. J. Novak', 'Bessel van der Kolk M.D.', 'Bill Martin Jr.',\n",
       "       \"Bill O'Reilly\", 'Bill Simmons', 'Blue Star Coloring',\n",
       "       'Bob Woodward', 'Brandon Stanton', 'Brené Brown',\n",
       "       'Brian Kilmeade', 'Bruce Springsteen', 'Carol S. Dweck',\n",
       "       'Celeste Ng', 'Charlaine Harris', 'Charles Duhigg',\n",
       "       'Charles Krauthammer', 'Cheryl Strayed', 'Chip Gaines',\n",
       "       'Chip Heath', 'Chris Cleave', 'Chris Kyle', 'Chrissy Teigen',\n",
       "       'Christina Baker Kline', 'Christopher Paolini',\n",
       "       'Coloring Books for Adults', 'Craig Smith', 'Crispin Boyer', 'DK',\n",
       "       'Dale Carnegie', 'Dan Brown', 'Daniel H. Pink',\n",
       "       'Daniel James Brown', 'Daniel Kahneman', 'Daniel Lipkowitz',\n",
       "       'Dav Pilkey', 'Dave Ramsey', 'David Goggins', 'David Grann',\n",
       "       'David McCullough', 'David Perlmutter MD', 'David Platt',\n",
       "       'David Zinczenko', 'Deborah Diesen',\n",
       "       'Delegates of the Constitutional\\x85', 'Delia Owens',\n",
       "       'Dinah Bucholz', 'Don Miguel Ruiz', 'Donna Tartt', 'Doug Lemov',\n",
       "       'Dr. Seuss', 'Dr. Steven R Gundry MD', 'Drew Daywalt', 'E L James',\n",
       "       'Eben Alexander', 'Edward Klein', 'Edward M. Kennedy',\n",
       "       'Elie Wiesel', 'Elizabeth Strout', 'Emily Winfield Martin',\n",
       "       'Eric Carle', 'Eric Larson', 'Ernest Cline', 'F. A. Hayek',\n",
       "       'F. Scott Fitzgerald', 'Francis Chan', 'Fredrik Backman', 'Gallup',\n",
       "       'Garth Stein', 'Gary Chapman', 'Gayle Forman', 'Geneen Roth',\n",
       "       'George Orwell', 'George R.R. Martin', 'George W. Bush',\n",
       "       'Giles Andreae', 'Gillian Flynn', 'Glenn Beck', 'Golden Books',\n",
       "       'Greg Mortenson', 'Harper Lee', 'Heidi Murkoff',\n",
       "       'Hillary Rodham Clinton', 'Hopscotch Girls', 'Howard Stern',\n",
       "       'Ian K. Smith M.D.', 'Ina Garten', 'J. D. Vance', 'J.K. Rowling',\n",
       "       'JJ Smith', 'James Comey', 'James Dashner', 'James Patterson',\n",
       "       'Jay Asher', 'Jaycee Dugard', 'Jeff Kinney', 'Jen Sincero',\n",
       "       'Jennifer Smith', 'Jill Twiss', 'Jim Collins', 'Joanna Gaines',\n",
       "       'Joel Fuhrman MD', 'Johanna Basford', 'John Green', 'John Grisham',\n",
       "       'John Heilemann', 'Jon Meacham', 'Jon Stewart', 'Jonathan Cahn',\n",
       "       'Jordan B. Peterson', 'Julia Child', 'Justin Halpern',\n",
       "       'Kathryn Stockett', 'Keith Richards', 'Ken Follett', 'Kevin Kwan',\n",
       "       'Khaled Hosseini', 'Kristin Hannah', 'Larry Schweikart',\n",
       "       'Laura Hillenbrand', 'Laurel Randolph', 'Lin-Manuel Miranda',\n",
       "       'Lysa TerKeurst', 'M Prefontaine', \"Madeleine L'Engle\",\n",
       "       'Malcolm Gladwell', 'Margaret Atwood', 'Margaret Wise Brown',\n",
       "       'Marie Kondō', 'Marjorie Sarnat', 'Mark Hyman M.D.', 'Mark Manson',\n",
       "       'Mark Owen', 'Mark R. Levin', 'Mark Twain', 'Markus Zusak',\n",
       "       'Marty Noble', 'Mary Ann Shaffer', 'Maurice Sendak',\n",
       "       'Melissa Hartwig Urban', 'Michael Lewis', 'Michael Pollan',\n",
       "       'Michael Wolff', 'Michelle Obama', 'Mike Moreno', 'Mitch Albom',\n",
       "       'Muriel Barbery', 'Naomi Kleinberg', 'Nathan W. Pyle',\n",
       "       'National Geographic Kids', 'Neil deGrasse Tyson',\n",
       "       'Paper Peony Press', 'Patrick Lencioni', 'Patrick Thorpe',\n",
       "       'Paul Kalanithi', 'Paula Hawkins', 'Paula McLain', 'Paulo Coelho',\n",
       "       'Pete Souza', 'Peter A. Lillback', 'Phil Robertson',\n",
       "       'Pierre Dukan', 'Pretty Simple Press', 'R. J. Palacio',\n",
       "       'RH Disney', 'Rachel Hollis', 'Raina Telgemeier', 'Randall Munroe',\n",
       "       'Randy Pausch', 'Ray Bradbury', 'Rebecca Skloot', 'Ree Drummond',\n",
       "       'Rick Riordan', 'Rob Bell', 'Rob Elliott', 'Robert Jordan',\n",
       "       'Robert Munsch', 'Rod Campbell', 'Roger Priddy', 'Ron Chernow',\n",
       "       'Rupi Kaur', 'Rush Limbaugh', 'Samin Nosrat', 'Sandra Boynton',\n",
       "       'Sara Gruen', 'Sarah Palin', 'Sarah Young', \"Sasha O'Hara\",\n",
       "       'Scholastic', 'School Zone', 'Sherri Duskey Rinker',\n",
       "       'Sheryl Sandberg', 'Silly Bear', 'Stephen Kendrick',\n",
       "       'Stephen King', 'Stephen R. Covey', 'Stephenie Meyer',\n",
       "       'Steve Harvey', 'Steven D. Levitt', 'Stieg Larsson', 'Susan Cain',\n",
       "       'Suzanne Collins', 'Ta-Nehisi Coates', 'Tara Westover',\n",
       "       'Tatiana de Rosnay', 'The College Board',\n",
       "       'The Staff of The Late Show with\\x85', 'The Washington Post',\n",
       "       'Thomas Campbell', 'Thomas Piketty', 'Thug Kitchen',\n",
       "       'Timothy Ferriss', 'Tina Fey', 'Todd Burpo', 'Tony Hsieh',\n",
       "       'Tucker Carlson', 'Veronica Roth', 'W. Cleon Skousen',\n",
       "       'Walter Isaacson', 'William Davis', 'William P. Young',\n",
       "       'Wizards RPG Team', 'Zhi Gang Sha'], dtype=object)"
      ]
     },
     "execution_count": 33,
     "metadata": {},
     "output_type": "execute_result"
    }
   ],
   "source": [
    "# Analisando todos os valores da coluna de autores:\n",
    "authors = amazon['Author'].sort_values().unique()\n",
    "authors"
   ]
  },
  {
   "cell_type": "markdown",
   "id": "21f643b8",
   "metadata": {},
   "source": [
    "Os seguintes nomes de autores:\n",
    "- George R. R. Martin \n",
    "- George R.R. Martin \n",
    "- J. K. Rowling \n",
    "- J.K. Rowling \n",
    "\n",
    "têm grafias diferentes, embora sejam os mesmos autores. "
   ]
  },
  {
   "cell_type": "code",
   "execution_count": 27,
   "id": "0aa7d52f",
   "metadata": {},
   "outputs": [],
   "source": [
    "# Substituindo os nomes dos autores:\n",
    "amazon = amazon.replace('George R. R. Martin', 'George R.R. Martin')\n",
    "amazon = amazon.replace('J. K. Rowling', 'J.K. Rowling')"
   ]
  },
  {
   "cell_type": "code",
   "execution_count": 28,
   "id": "6b58eb6e",
   "metadata": {},
   "outputs": [
    {
     "name": "stdout",
     "output_type": "stream",
     "text": [
      "Name(antes): 350 | Name(depois): 350\n",
      "Author(antes): 246 | Author(depois): 246\n",
      "Genre(antes): 2 | Genre(depois): 2\n"
     ]
    }
   ],
   "source": [
    "# Verificando se as alterações foram bem sucedidas:\n",
    "for coluna in coluna_categorica:\n",
    "    print(f'{coluna}(antes): {len(set(amazon[coluna]))}'\n",
    "          f' | {coluna}(depois): {len(set(amazon[coluna].str.title().str.strip()))}')"
   ]
  },
  {
   "cell_type": "markdown",
   "id": "63d67ba1",
   "metadata": {},
   "source": [
    "#### Coluna _Genre_:\n"
   ]
  },
  {
   "cell_type": "code",
   "execution_count": 32,
   "id": "07d992b0",
   "metadata": {},
   "outputs": [
    {
     "data": {
      "text/plain": [
       "array(['Non Fiction', 'Fiction'], dtype=object)"
      ]
     },
     "execution_count": 32,
     "metadata": {},
     "output_type": "execute_result"
    }
   ],
   "source": [
    "# Verificando os valores da coluna de gêneros:\n",
    "genre = amazon['Genre'].unique()\n",
    "genre"
   ]
  },
  {
   "cell_type": "markdown",
   "id": "8338c943",
   "metadata": {},
   "source": [
    "#### Coluna _Year_:"
   ]
  },
  {
   "cell_type": "code",
   "execution_count": 31,
   "id": "9382af41",
   "metadata": {},
   "outputs": [
    {
     "data": {
      "text/plain": [
       "[2009, 2010, 2011, 2012, 2013, 2014, 2015, 2016, 2017, 2018, 2019]"
      ]
     },
     "execution_count": 31,
     "metadata": {},
     "output_type": "execute_result"
    }
   ],
   "source": [
    "# Verificando a coluna dos anos:\n",
    "years = list(amazon['Year'].unique())\n",
    "sorted(years)"
   ]
  },
  {
   "cell_type": "markdown",
   "id": "437c36d9",
   "metadata": {},
   "source": [
    "#### Coluna _User Rating_:"
   ]
  },
  {
   "cell_type": "code",
   "execution_count": 34,
   "id": "d313be1b",
   "metadata": {},
   "outputs": [
    {
     "data": {
      "text/plain": [
       "[3.3, 3.6, 3.8, 3.9, 4.0, 4.1, 4.2, 4.3, 4.4, 4.5, 4.6, 4.7, 4.8, 4.9]"
      ]
     },
     "execution_count": 34,
     "metadata": {},
     "output_type": "execute_result"
    }
   ],
   "source": [
    "# Verificando a coluna de avaliações dos usuários:\n",
    "rating = list(amazon['User Rating'].unique())\n",
    "sorted(rating)"
   ]
  },
  {
   "cell_type": "markdown",
   "id": "810c97bf",
   "metadata": {},
   "source": [
    "### Conclusão:\n",
    "\n",
    "A partir desta primeira análise, foi possível obter as seguintes informações:\n",
    "- Estamos analisando os best sellers da Amazon de 2009-2019.\n",
    "- Os dados contêm 350 títulos de livros diferentes.\n",
    "- Os livros foram escritos por 246 autores. \n",
    "- Todos os livros são apresentados em duas categorias (Não Ficção, Ficção).\n",
    "- As avaliações dos leitores vão de 3.3 a 4.9"
   ]
  },
  {
   "cell_type": "code",
   "execution_count": null,
   "id": "a3fd9dfa",
   "metadata": {},
   "outputs": [],
   "source": []
  }
 ],
 "metadata": {
  "kernelspec": {
   "display_name": "Python 3",
   "language": "python",
   "name": "python3"
  },
  "language_info": {
   "codemirror_mode": {
    "name": "ipython",
    "version": 3
   },
   "file_extension": ".py",
   "mimetype": "text/x-python",
   "name": "python",
   "nbconvert_exporter": "python",
   "pygments_lexer": "ipython3",
   "version": "3.6.9"
  }
 },
 "nbformat": 4,
 "nbformat_minor": 5
}
